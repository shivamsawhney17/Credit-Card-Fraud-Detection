{
 "cells": [
  {
   "cell_type": "markdown",
   "id": "71534d95",
   "metadata": {},
   "source": [
    "## Credit Card Fraud Detection Challenge"
   ]
  },
  {
   "cell_type": "markdown",
   "id": "77893155",
   "metadata": {},
   "source": [
    "First and foremost, I have imported all the necessary `libraries` required to run this Jupyter Notebook. I have refrained from importing any such library which I have not made use of in my code. "
   ]
  },
  {
   "cell_type": "markdown",
   "id": "3b9a503c",
   "metadata": {},
   "source": [
    "**Note: The only thing which needs to be ensured to run this code is to have the dataset (transactions.txt) file in the same folder location as this Jupyter NB**"
   ]
  },
  {
   "cell_type": "markdown",
   "id": "e592e3b3",
   "metadata": {},
   "source": [
    "### Question 1"
   ]
  },
  {
   "cell_type": "code",
   "execution_count": 1,
   "id": "efcd24b2",
   "metadata": {},
   "outputs": [],
   "source": [
    "import pandas as pd\n",
    "import numpy as np\n",
    "import matplotlib.pyplot as mpl\n",
    "import seaborn as sb\n",
    "from sklearn.model_selection import train_test_split\n",
    "from sklearn.linear_model import LogisticRegression\n",
    "from sklearn.neighbors import KNeighborsClassifier\n",
    "from sklearn.ensemble import RandomForestClassifier\n",
    "from sklearn.ensemble import IsolationForest\n",
    "from sklearn.model_selection import cross_val_score\n",
    "from sklearn.metrics import *\n",
    "import collections"
   ]
  },
  {
   "cell_type": "markdown",
   "id": "8dd37271",
   "metadata": {},
   "source": [
    "Next, making use of the `Pandas` library which was imported in the previous code block, I have loaded the given dataset. Since the dataset was in the JSON format, I have made use of the read_json function of the Pandas library. Next, I have replaced any/all blank values in the dataset with NAs."
   ]
  },
  {
   "cell_type": "code",
   "execution_count": 2,
   "id": "8306408a",
   "metadata": {},
   "outputs": [],
   "source": [
    "data = pd.read_json('transactions.txt', lines=True)\n",
    "data.replace('', np.nan, inplace=True)"
   ]
  },
  {
   "cell_type": "markdown",
   "id": "db232a44",
   "metadata": {},
   "source": [
    "Having a brief look at the dataset..."
   ]
  },
  {
   "cell_type": "code",
   "execution_count": 3,
   "id": "94dc55a3",
   "metadata": {},
   "outputs": [
    {
     "data": {
      "text/html": [
       "<div>\n",
       "<style scoped>\n",
       "    .dataframe tbody tr th:only-of-type {\n",
       "        vertical-align: middle;\n",
       "    }\n",
       "\n",
       "    .dataframe tbody tr th {\n",
       "        vertical-align: top;\n",
       "    }\n",
       "\n",
       "    .dataframe thead th {\n",
       "        text-align: right;\n",
       "    }\n",
       "</style>\n",
       "<table border=\"1\" class=\"dataframe\">\n",
       "  <thead>\n",
       "    <tr style=\"text-align: right;\">\n",
       "      <th></th>\n",
       "      <th>accountNumber</th>\n",
       "      <th>customerId</th>\n",
       "      <th>creditLimit</th>\n",
       "      <th>availableMoney</th>\n",
       "      <th>transactionDateTime</th>\n",
       "      <th>transactionAmount</th>\n",
       "      <th>merchantName</th>\n",
       "      <th>acqCountry</th>\n",
       "      <th>merchantCountryCode</th>\n",
       "      <th>posEntryMode</th>\n",
       "      <th>...</th>\n",
       "      <th>echoBuffer</th>\n",
       "      <th>currentBalance</th>\n",
       "      <th>merchantCity</th>\n",
       "      <th>merchantState</th>\n",
       "      <th>merchantZip</th>\n",
       "      <th>cardPresent</th>\n",
       "      <th>posOnPremises</th>\n",
       "      <th>recurringAuthInd</th>\n",
       "      <th>expirationDateKeyInMatch</th>\n",
       "      <th>isFraud</th>\n",
       "    </tr>\n",
       "  </thead>\n",
       "  <tbody>\n",
       "    <tr>\n",
       "      <th>0</th>\n",
       "      <td>737265056</td>\n",
       "      <td>737265056</td>\n",
       "      <td>5000</td>\n",
       "      <td>5000.00</td>\n",
       "      <td>2016-08-13T14:27:32</td>\n",
       "      <td>98.55</td>\n",
       "      <td>Uber</td>\n",
       "      <td>US</td>\n",
       "      <td>US</td>\n",
       "      <td>02</td>\n",
       "      <td>...</td>\n",
       "      <td>NaN</td>\n",
       "      <td>0.00</td>\n",
       "      <td>NaN</td>\n",
       "      <td>NaN</td>\n",
       "      <td>NaN</td>\n",
       "      <td>False</td>\n",
       "      <td>NaN</td>\n",
       "      <td>NaN</td>\n",
       "      <td>False</td>\n",
       "      <td>False</td>\n",
       "    </tr>\n",
       "    <tr>\n",
       "      <th>1</th>\n",
       "      <td>737265056</td>\n",
       "      <td>737265056</td>\n",
       "      <td>5000</td>\n",
       "      <td>5000.00</td>\n",
       "      <td>2016-10-11T05:05:54</td>\n",
       "      <td>74.51</td>\n",
       "      <td>AMC #191138</td>\n",
       "      <td>US</td>\n",
       "      <td>US</td>\n",
       "      <td>09</td>\n",
       "      <td>...</td>\n",
       "      <td>NaN</td>\n",
       "      <td>0.00</td>\n",
       "      <td>NaN</td>\n",
       "      <td>NaN</td>\n",
       "      <td>NaN</td>\n",
       "      <td>True</td>\n",
       "      <td>NaN</td>\n",
       "      <td>NaN</td>\n",
       "      <td>False</td>\n",
       "      <td>False</td>\n",
       "    </tr>\n",
       "    <tr>\n",
       "      <th>2</th>\n",
       "      <td>737265056</td>\n",
       "      <td>737265056</td>\n",
       "      <td>5000</td>\n",
       "      <td>5000.00</td>\n",
       "      <td>2016-11-08T09:18:39</td>\n",
       "      <td>7.47</td>\n",
       "      <td>Play Store</td>\n",
       "      <td>US</td>\n",
       "      <td>US</td>\n",
       "      <td>09</td>\n",
       "      <td>...</td>\n",
       "      <td>NaN</td>\n",
       "      <td>0.00</td>\n",
       "      <td>NaN</td>\n",
       "      <td>NaN</td>\n",
       "      <td>NaN</td>\n",
       "      <td>False</td>\n",
       "      <td>NaN</td>\n",
       "      <td>NaN</td>\n",
       "      <td>False</td>\n",
       "      <td>False</td>\n",
       "    </tr>\n",
       "    <tr>\n",
       "      <th>3</th>\n",
       "      <td>737265056</td>\n",
       "      <td>737265056</td>\n",
       "      <td>5000</td>\n",
       "      <td>5000.00</td>\n",
       "      <td>2016-12-10T02:14:50</td>\n",
       "      <td>7.47</td>\n",
       "      <td>Play Store</td>\n",
       "      <td>US</td>\n",
       "      <td>US</td>\n",
       "      <td>09</td>\n",
       "      <td>...</td>\n",
       "      <td>NaN</td>\n",
       "      <td>0.00</td>\n",
       "      <td>NaN</td>\n",
       "      <td>NaN</td>\n",
       "      <td>NaN</td>\n",
       "      <td>False</td>\n",
       "      <td>NaN</td>\n",
       "      <td>NaN</td>\n",
       "      <td>False</td>\n",
       "      <td>False</td>\n",
       "    </tr>\n",
       "    <tr>\n",
       "      <th>4</th>\n",
       "      <td>830329091</td>\n",
       "      <td>830329091</td>\n",
       "      <td>5000</td>\n",
       "      <td>5000.00</td>\n",
       "      <td>2016-03-24T21:04:46</td>\n",
       "      <td>71.18</td>\n",
       "      <td>Tim Hortons #947751</td>\n",
       "      <td>US</td>\n",
       "      <td>US</td>\n",
       "      <td>02</td>\n",
       "      <td>...</td>\n",
       "      <td>NaN</td>\n",
       "      <td>0.00</td>\n",
       "      <td>NaN</td>\n",
       "      <td>NaN</td>\n",
       "      <td>NaN</td>\n",
       "      <td>True</td>\n",
       "      <td>NaN</td>\n",
       "      <td>NaN</td>\n",
       "      <td>False</td>\n",
       "      <td>False</td>\n",
       "    </tr>\n",
       "    <tr>\n",
       "      <th>...</th>\n",
       "      <td>...</td>\n",
       "      <td>...</td>\n",
       "      <td>...</td>\n",
       "      <td>...</td>\n",
       "      <td>...</td>\n",
       "      <td>...</td>\n",
       "      <td>...</td>\n",
       "      <td>...</td>\n",
       "      <td>...</td>\n",
       "      <td>...</td>\n",
       "      <td>...</td>\n",
       "      <td>...</td>\n",
       "      <td>...</td>\n",
       "      <td>...</td>\n",
       "      <td>...</td>\n",
       "      <td>...</td>\n",
       "      <td>...</td>\n",
       "      <td>...</td>\n",
       "      <td>...</td>\n",
       "      <td>...</td>\n",
       "      <td>...</td>\n",
       "    </tr>\n",
       "    <tr>\n",
       "      <th>786358</th>\n",
       "      <td>732852505</td>\n",
       "      <td>732852505</td>\n",
       "      <td>50000</td>\n",
       "      <td>48904.96</td>\n",
       "      <td>2016-12-22T18:44:12</td>\n",
       "      <td>119.92</td>\n",
       "      <td>Lyft</td>\n",
       "      <td>US</td>\n",
       "      <td>US</td>\n",
       "      <td>90</td>\n",
       "      <td>...</td>\n",
       "      <td>NaN</td>\n",
       "      <td>1095.04</td>\n",
       "      <td>NaN</td>\n",
       "      <td>NaN</td>\n",
       "      <td>NaN</td>\n",
       "      <td>False</td>\n",
       "      <td>NaN</td>\n",
       "      <td>NaN</td>\n",
       "      <td>False</td>\n",
       "      <td>False</td>\n",
       "    </tr>\n",
       "    <tr>\n",
       "      <th>786359</th>\n",
       "      <td>732852505</td>\n",
       "      <td>732852505</td>\n",
       "      <td>50000</td>\n",
       "      <td>48785.04</td>\n",
       "      <td>2016-12-25T16:20:34</td>\n",
       "      <td>18.89</td>\n",
       "      <td>hulu.com</td>\n",
       "      <td>US</td>\n",
       "      <td>US</td>\n",
       "      <td>09</td>\n",
       "      <td>...</td>\n",
       "      <td>NaN</td>\n",
       "      <td>1214.96</td>\n",
       "      <td>NaN</td>\n",
       "      <td>NaN</td>\n",
       "      <td>NaN</td>\n",
       "      <td>False</td>\n",
       "      <td>NaN</td>\n",
       "      <td>NaN</td>\n",
       "      <td>False</td>\n",
       "      <td>False</td>\n",
       "    </tr>\n",
       "    <tr>\n",
       "      <th>786360</th>\n",
       "      <td>732852505</td>\n",
       "      <td>732852505</td>\n",
       "      <td>50000</td>\n",
       "      <td>48766.15</td>\n",
       "      <td>2016-12-27T15:46:24</td>\n",
       "      <td>49.43</td>\n",
       "      <td>Lyft</td>\n",
       "      <td>US</td>\n",
       "      <td>US</td>\n",
       "      <td>02</td>\n",
       "      <td>...</td>\n",
       "      <td>NaN</td>\n",
       "      <td>1233.85</td>\n",
       "      <td>NaN</td>\n",
       "      <td>NaN</td>\n",
       "      <td>NaN</td>\n",
       "      <td>False</td>\n",
       "      <td>NaN</td>\n",
       "      <td>NaN</td>\n",
       "      <td>False</td>\n",
       "      <td>False</td>\n",
       "    </tr>\n",
       "    <tr>\n",
       "      <th>786361</th>\n",
       "      <td>732852505</td>\n",
       "      <td>732852505</td>\n",
       "      <td>50000</td>\n",
       "      <td>48716.72</td>\n",
       "      <td>2016-12-29T00:30:55</td>\n",
       "      <td>49.89</td>\n",
       "      <td>walmart.com</td>\n",
       "      <td>US</td>\n",
       "      <td>US</td>\n",
       "      <td>09</td>\n",
       "      <td>...</td>\n",
       "      <td>NaN</td>\n",
       "      <td>1283.28</td>\n",
       "      <td>NaN</td>\n",
       "      <td>NaN</td>\n",
       "      <td>NaN</td>\n",
       "      <td>False</td>\n",
       "      <td>NaN</td>\n",
       "      <td>NaN</td>\n",
       "      <td>False</td>\n",
       "      <td>False</td>\n",
       "    </tr>\n",
       "    <tr>\n",
       "      <th>786362</th>\n",
       "      <td>732852505</td>\n",
       "      <td>732852505</td>\n",
       "      <td>50000</td>\n",
       "      <td>48666.83</td>\n",
       "      <td>2016-12-30T20:10:29</td>\n",
       "      <td>72.18</td>\n",
       "      <td>Uber</td>\n",
       "      <td>US</td>\n",
       "      <td>US</td>\n",
       "      <td>05</td>\n",
       "      <td>...</td>\n",
       "      <td>NaN</td>\n",
       "      <td>1333.17</td>\n",
       "      <td>NaN</td>\n",
       "      <td>NaN</td>\n",
       "      <td>NaN</td>\n",
       "      <td>False</td>\n",
       "      <td>NaN</td>\n",
       "      <td>NaN</td>\n",
       "      <td>False</td>\n",
       "      <td>False</td>\n",
       "    </tr>\n",
       "  </tbody>\n",
       "</table>\n",
       "<p>786363 rows × 29 columns</p>\n",
       "</div>"
      ],
      "text/plain": [
       "        accountNumber  customerId  creditLimit  availableMoney  \\\n",
       "0           737265056   737265056         5000         5000.00   \n",
       "1           737265056   737265056         5000         5000.00   \n",
       "2           737265056   737265056         5000         5000.00   \n",
       "3           737265056   737265056         5000         5000.00   \n",
       "4           830329091   830329091         5000         5000.00   \n",
       "...               ...         ...          ...             ...   \n",
       "786358      732852505   732852505        50000        48904.96   \n",
       "786359      732852505   732852505        50000        48785.04   \n",
       "786360      732852505   732852505        50000        48766.15   \n",
       "786361      732852505   732852505        50000        48716.72   \n",
       "786362      732852505   732852505        50000        48666.83   \n",
       "\n",
       "        transactionDateTime  transactionAmount         merchantName  \\\n",
       "0       2016-08-13T14:27:32              98.55                 Uber   \n",
       "1       2016-10-11T05:05:54              74.51          AMC #191138   \n",
       "2       2016-11-08T09:18:39               7.47           Play Store   \n",
       "3       2016-12-10T02:14:50               7.47           Play Store   \n",
       "4       2016-03-24T21:04:46              71.18  Tim Hortons #947751   \n",
       "...                     ...                ...                  ...   \n",
       "786358  2016-12-22T18:44:12             119.92                 Lyft   \n",
       "786359  2016-12-25T16:20:34              18.89             hulu.com   \n",
       "786360  2016-12-27T15:46:24              49.43                 Lyft   \n",
       "786361  2016-12-29T00:30:55              49.89          walmart.com   \n",
       "786362  2016-12-30T20:10:29              72.18                 Uber   \n",
       "\n",
       "       acqCountry merchantCountryCode posEntryMode  ... echoBuffer  \\\n",
       "0              US                  US           02  ...        NaN   \n",
       "1              US                  US           09  ...        NaN   \n",
       "2              US                  US           09  ...        NaN   \n",
       "3              US                  US           09  ...        NaN   \n",
       "4              US                  US           02  ...        NaN   \n",
       "...           ...                 ...          ...  ...        ...   \n",
       "786358         US                  US           90  ...        NaN   \n",
       "786359         US                  US           09  ...        NaN   \n",
       "786360         US                  US           02  ...        NaN   \n",
       "786361         US                  US           09  ...        NaN   \n",
       "786362         US                  US           05  ...        NaN   \n",
       "\n",
       "       currentBalance merchantCity merchantState merchantZip  cardPresent  \\\n",
       "0                0.00          NaN           NaN         NaN        False   \n",
       "1                0.00          NaN           NaN         NaN         True   \n",
       "2                0.00          NaN           NaN         NaN        False   \n",
       "3                0.00          NaN           NaN         NaN        False   \n",
       "4                0.00          NaN           NaN         NaN         True   \n",
       "...               ...          ...           ...         ...          ...   \n",
       "786358        1095.04          NaN           NaN         NaN        False   \n",
       "786359        1214.96          NaN           NaN         NaN        False   \n",
       "786360        1233.85          NaN           NaN         NaN        False   \n",
       "786361        1283.28          NaN           NaN         NaN        False   \n",
       "786362        1333.17          NaN           NaN         NaN        False   \n",
       "\n",
       "        posOnPremises  recurringAuthInd expirationDateKeyInMatch  isFraud  \n",
       "0                 NaN               NaN                    False    False  \n",
       "1                 NaN               NaN                    False    False  \n",
       "2                 NaN               NaN                    False    False  \n",
       "3                 NaN               NaN                    False    False  \n",
       "4                 NaN               NaN                    False    False  \n",
       "...               ...               ...                      ...      ...  \n",
       "786358            NaN               NaN                    False    False  \n",
       "786359            NaN               NaN                    False    False  \n",
       "786360            NaN               NaN                    False    False  \n",
       "786361            NaN               NaN                    False    False  \n",
       "786362            NaN               NaN                    False    False  \n",
       "\n",
       "[786363 rows x 29 columns]"
      ]
     },
     "execution_count": 3,
     "metadata": {},
     "output_type": "execute_result"
    }
   ],
   "source": [
    "data"
   ]
  },
  {
   "cell_type": "markdown",
   "id": "927a66d9",
   "metadata": {},
   "source": [
    "Checking and counting the number of `null` values in each column of the given dataset."
   ]
  },
  {
   "cell_type": "code",
   "execution_count": 4,
   "id": "c6bffec2",
   "metadata": {},
   "outputs": [
    {
     "name": "stdout",
     "output_type": "stream",
     "text": [
      "accountNumber                    0\n",
      "customerId                       0\n",
      "creditLimit                      0\n",
      "availableMoney                   0\n",
      "transactionDateTime              0\n",
      "transactionAmount                0\n",
      "merchantName                     0\n",
      "acqCountry                    4562\n",
      "merchantCountryCode            724\n",
      "posEntryMode                  4054\n",
      "posConditionCode               409\n",
      "merchantCategoryCode             0\n",
      "currentExpDate                   0\n",
      "accountOpenDate                  0\n",
      "dateOfLastAddressChange          0\n",
      "cardCVV                          0\n",
      "enteredCVV                       0\n",
      "cardLast4Digits                  0\n",
      "transactionType                698\n",
      "echoBuffer                  786363\n",
      "currentBalance                   0\n",
      "merchantCity                786363\n",
      "merchantState               786363\n",
      "merchantZip                 786363\n",
      "cardPresent                      0\n",
      "posOnPremises               786363\n",
      "recurringAuthInd            786363\n",
      "expirationDateKeyInMatch         0\n",
      "isFraud                          0\n",
      "dtype: int64\n"
     ]
    }
   ],
   "source": [
    "print(data.isnull().sum())"
   ]
  },
  {
   "cell_type": "markdown",
   "id": "5071eb0d",
   "metadata": {},
   "source": [
    "Checking the shape of the given dataset i.e. the number of rows and columns in the data."
   ]
  },
  {
   "cell_type": "code",
   "execution_count": 5,
   "id": "e3f8952f",
   "metadata": {},
   "outputs": [
    {
     "data": {
      "text/plain": [
       "(786363, 29)"
      ]
     },
     "execution_count": 5,
     "metadata": {},
     "output_type": "execute_result"
    }
   ],
   "source": [
    "data.shape"
   ]
  },
  {
   "cell_type": "markdown",
   "id": "3693e2cb",
   "metadata": {},
   "source": [
    "Making use of the inbuilt `describe()` function so as to have a look at the data from a more statistical point of view. With the help of this function, we can have a detailed look into the numerical columns of the given dataset. It returns values like `mean`, `min`, `max`, `quantiles` etc."
   ]
  },
  {
   "cell_type": "code",
   "execution_count": 6,
   "id": "894e41e2",
   "metadata": {},
   "outputs": [
    {
     "data": {
      "text/html": [
       "<div>\n",
       "<style scoped>\n",
       "    .dataframe tbody tr th:only-of-type {\n",
       "        vertical-align: middle;\n",
       "    }\n",
       "\n",
       "    .dataframe tbody tr th {\n",
       "        vertical-align: top;\n",
       "    }\n",
       "\n",
       "    .dataframe thead th {\n",
       "        text-align: right;\n",
       "    }\n",
       "</style>\n",
       "<table border=\"1\" class=\"dataframe\">\n",
       "  <thead>\n",
       "    <tr style=\"text-align: right;\">\n",
       "      <th></th>\n",
       "      <th>accountNumber</th>\n",
       "      <th>customerId</th>\n",
       "      <th>creditLimit</th>\n",
       "      <th>availableMoney</th>\n",
       "      <th>transactionAmount</th>\n",
       "      <th>cardCVV</th>\n",
       "      <th>enteredCVV</th>\n",
       "      <th>cardLast4Digits</th>\n",
       "      <th>echoBuffer</th>\n",
       "      <th>currentBalance</th>\n",
       "      <th>merchantCity</th>\n",
       "      <th>merchantState</th>\n",
       "      <th>merchantZip</th>\n",
       "      <th>posOnPremises</th>\n",
       "      <th>recurringAuthInd</th>\n",
       "    </tr>\n",
       "  </thead>\n",
       "  <tbody>\n",
       "    <tr>\n",
       "      <th>count</th>\n",
       "      <td>7.863630e+05</td>\n",
       "      <td>7.863630e+05</td>\n",
       "      <td>786363.000000</td>\n",
       "      <td>786363.000000</td>\n",
       "      <td>786363.000000</td>\n",
       "      <td>786363.000000</td>\n",
       "      <td>786363.000000</td>\n",
       "      <td>786363.000000</td>\n",
       "      <td>0.0</td>\n",
       "      <td>786363.000000</td>\n",
       "      <td>0.0</td>\n",
       "      <td>0.0</td>\n",
       "      <td>0.0</td>\n",
       "      <td>0.0</td>\n",
       "      <td>0.0</td>\n",
       "    </tr>\n",
       "    <tr>\n",
       "      <th>mean</th>\n",
       "      <td>5.372326e+08</td>\n",
       "      <td>5.372326e+08</td>\n",
       "      <td>10759.464459</td>\n",
       "      <td>6250.725369</td>\n",
       "      <td>136.985791</td>\n",
       "      <td>544.467338</td>\n",
       "      <td>544.183857</td>\n",
       "      <td>4757.417799</td>\n",
       "      <td>NaN</td>\n",
       "      <td>4508.739089</td>\n",
       "      <td>NaN</td>\n",
       "      <td>NaN</td>\n",
       "      <td>NaN</td>\n",
       "      <td>NaN</td>\n",
       "      <td>NaN</td>\n",
       "    </tr>\n",
       "    <tr>\n",
       "      <th>std</th>\n",
       "      <td>2.554211e+08</td>\n",
       "      <td>2.554211e+08</td>\n",
       "      <td>11636.174890</td>\n",
       "      <td>8880.783989</td>\n",
       "      <td>147.725569</td>\n",
       "      <td>261.524220</td>\n",
       "      <td>261.551254</td>\n",
       "      <td>2996.583810</td>\n",
       "      <td>NaN</td>\n",
       "      <td>6457.442068</td>\n",
       "      <td>NaN</td>\n",
       "      <td>NaN</td>\n",
       "      <td>NaN</td>\n",
       "      <td>NaN</td>\n",
       "      <td>NaN</td>\n",
       "    </tr>\n",
       "    <tr>\n",
       "      <th>min</th>\n",
       "      <td>1.000881e+08</td>\n",
       "      <td>1.000881e+08</td>\n",
       "      <td>250.000000</td>\n",
       "      <td>-1005.630000</td>\n",
       "      <td>0.000000</td>\n",
       "      <td>100.000000</td>\n",
       "      <td>0.000000</td>\n",
       "      <td>0.000000</td>\n",
       "      <td>NaN</td>\n",
       "      <td>0.000000</td>\n",
       "      <td>NaN</td>\n",
       "      <td>NaN</td>\n",
       "      <td>NaN</td>\n",
       "      <td>NaN</td>\n",
       "      <td>NaN</td>\n",
       "    </tr>\n",
       "    <tr>\n",
       "      <th>25%</th>\n",
       "      <td>3.301333e+08</td>\n",
       "      <td>3.301333e+08</td>\n",
       "      <td>5000.000000</td>\n",
       "      <td>1077.420000</td>\n",
       "      <td>33.650000</td>\n",
       "      <td>310.000000</td>\n",
       "      <td>310.000000</td>\n",
       "      <td>2178.000000</td>\n",
       "      <td>NaN</td>\n",
       "      <td>689.910000</td>\n",
       "      <td>NaN</td>\n",
       "      <td>NaN</td>\n",
       "      <td>NaN</td>\n",
       "      <td>NaN</td>\n",
       "      <td>NaN</td>\n",
       "    </tr>\n",
       "    <tr>\n",
       "      <th>50%</th>\n",
       "      <td>5.074561e+08</td>\n",
       "      <td>5.074561e+08</td>\n",
       "      <td>7500.000000</td>\n",
       "      <td>3184.860000</td>\n",
       "      <td>87.900000</td>\n",
       "      <td>535.000000</td>\n",
       "      <td>535.000000</td>\n",
       "      <td>4733.000000</td>\n",
       "      <td>NaN</td>\n",
       "      <td>2451.760000</td>\n",
       "      <td>NaN</td>\n",
       "      <td>NaN</td>\n",
       "      <td>NaN</td>\n",
       "      <td>NaN</td>\n",
       "      <td>NaN</td>\n",
       "    </tr>\n",
       "    <tr>\n",
       "      <th>75%</th>\n",
       "      <td>7.676200e+08</td>\n",
       "      <td>7.676200e+08</td>\n",
       "      <td>15000.000000</td>\n",
       "      <td>7500.000000</td>\n",
       "      <td>191.480000</td>\n",
       "      <td>785.000000</td>\n",
       "      <td>785.000000</td>\n",
       "      <td>7338.000000</td>\n",
       "      <td>NaN</td>\n",
       "      <td>5291.095000</td>\n",
       "      <td>NaN</td>\n",
       "      <td>NaN</td>\n",
       "      <td>NaN</td>\n",
       "      <td>NaN</td>\n",
       "      <td>NaN</td>\n",
       "    </tr>\n",
       "    <tr>\n",
       "      <th>max</th>\n",
       "      <td>9.993896e+08</td>\n",
       "      <td>9.993896e+08</td>\n",
       "      <td>50000.000000</td>\n",
       "      <td>50000.000000</td>\n",
       "      <td>2011.540000</td>\n",
       "      <td>998.000000</td>\n",
       "      <td>998.000000</td>\n",
       "      <td>9998.000000</td>\n",
       "      <td>NaN</td>\n",
       "      <td>47498.810000</td>\n",
       "      <td>NaN</td>\n",
       "      <td>NaN</td>\n",
       "      <td>NaN</td>\n",
       "      <td>NaN</td>\n",
       "      <td>NaN</td>\n",
       "    </tr>\n",
       "  </tbody>\n",
       "</table>\n",
       "</div>"
      ],
      "text/plain": [
       "       accountNumber    customerId    creditLimit  availableMoney  \\\n",
       "count   7.863630e+05  7.863630e+05  786363.000000   786363.000000   \n",
       "mean    5.372326e+08  5.372326e+08   10759.464459     6250.725369   \n",
       "std     2.554211e+08  2.554211e+08   11636.174890     8880.783989   \n",
       "min     1.000881e+08  1.000881e+08     250.000000    -1005.630000   \n",
       "25%     3.301333e+08  3.301333e+08    5000.000000     1077.420000   \n",
       "50%     5.074561e+08  5.074561e+08    7500.000000     3184.860000   \n",
       "75%     7.676200e+08  7.676200e+08   15000.000000     7500.000000   \n",
       "max     9.993896e+08  9.993896e+08   50000.000000    50000.000000   \n",
       "\n",
       "       transactionAmount        cardCVV     enteredCVV  cardLast4Digits  \\\n",
       "count      786363.000000  786363.000000  786363.000000    786363.000000   \n",
       "mean          136.985791     544.467338     544.183857      4757.417799   \n",
       "std           147.725569     261.524220     261.551254      2996.583810   \n",
       "min             0.000000     100.000000       0.000000         0.000000   \n",
       "25%            33.650000     310.000000     310.000000      2178.000000   \n",
       "50%            87.900000     535.000000     535.000000      4733.000000   \n",
       "75%           191.480000     785.000000     785.000000      7338.000000   \n",
       "max          2011.540000     998.000000     998.000000      9998.000000   \n",
       "\n",
       "       echoBuffer  currentBalance  merchantCity  merchantState  merchantZip  \\\n",
       "count         0.0   786363.000000           0.0            0.0          0.0   \n",
       "mean          NaN     4508.739089           NaN            NaN          NaN   \n",
       "std           NaN     6457.442068           NaN            NaN          NaN   \n",
       "min           NaN        0.000000           NaN            NaN          NaN   \n",
       "25%           NaN      689.910000           NaN            NaN          NaN   \n",
       "50%           NaN     2451.760000           NaN            NaN          NaN   \n",
       "75%           NaN     5291.095000           NaN            NaN          NaN   \n",
       "max           NaN    47498.810000           NaN            NaN          NaN   \n",
       "\n",
       "       posOnPremises  recurringAuthInd  \n",
       "count            0.0               0.0  \n",
       "mean             NaN               NaN  \n",
       "std              NaN               NaN  \n",
       "min              NaN               NaN  \n",
       "25%              NaN               NaN  \n",
       "50%              NaN               NaN  \n",
       "75%              NaN               NaN  \n",
       "max              NaN               NaN  "
      ]
     },
     "execution_count": 6,
     "metadata": {},
     "output_type": "execute_result"
    }
   ],
   "source": [
    "data.describe()"
   ]
  },
  {
   "cell_type": "code",
   "execution_count": 7,
   "id": "8f51a981",
   "metadata": {},
   "outputs": [
    {
     "data": {
      "text/plain": [
       "<bound method NDFrame.describe of         accountNumber  customerId  creditLimit  availableMoney  \\\n",
       "0           737265056   737265056         5000         5000.00   \n",
       "1           737265056   737265056         5000         5000.00   \n",
       "2           737265056   737265056         5000         5000.00   \n",
       "3           737265056   737265056         5000         5000.00   \n",
       "4           830329091   830329091         5000         5000.00   \n",
       "...               ...         ...          ...             ...   \n",
       "786358      732852505   732852505        50000        48904.96   \n",
       "786359      732852505   732852505        50000        48785.04   \n",
       "786360      732852505   732852505        50000        48766.15   \n",
       "786361      732852505   732852505        50000        48716.72   \n",
       "786362      732852505   732852505        50000        48666.83   \n",
       "\n",
       "        transactionDateTime  transactionAmount         merchantName  \\\n",
       "0       2016-08-13T14:27:32              98.55                 Uber   \n",
       "1       2016-10-11T05:05:54              74.51          AMC #191138   \n",
       "2       2016-11-08T09:18:39               7.47           Play Store   \n",
       "3       2016-12-10T02:14:50               7.47           Play Store   \n",
       "4       2016-03-24T21:04:46              71.18  Tim Hortons #947751   \n",
       "...                     ...                ...                  ...   \n",
       "786358  2016-12-22T18:44:12             119.92                 Lyft   \n",
       "786359  2016-12-25T16:20:34              18.89             hulu.com   \n",
       "786360  2016-12-27T15:46:24              49.43                 Lyft   \n",
       "786361  2016-12-29T00:30:55              49.89          walmart.com   \n",
       "786362  2016-12-30T20:10:29              72.18                 Uber   \n",
       "\n",
       "       acqCountry merchantCountryCode posEntryMode  ... echoBuffer  \\\n",
       "0              US                  US           02  ...        NaN   \n",
       "1              US                  US           09  ...        NaN   \n",
       "2              US                  US           09  ...        NaN   \n",
       "3              US                  US           09  ...        NaN   \n",
       "4              US                  US           02  ...        NaN   \n",
       "...           ...                 ...          ...  ...        ...   \n",
       "786358         US                  US           90  ...        NaN   \n",
       "786359         US                  US           09  ...        NaN   \n",
       "786360         US                  US           02  ...        NaN   \n",
       "786361         US                  US           09  ...        NaN   \n",
       "786362         US                  US           05  ...        NaN   \n",
       "\n",
       "       currentBalance merchantCity merchantState merchantZip  cardPresent  \\\n",
       "0                0.00          NaN           NaN         NaN        False   \n",
       "1                0.00          NaN           NaN         NaN         True   \n",
       "2                0.00          NaN           NaN         NaN        False   \n",
       "3                0.00          NaN           NaN         NaN        False   \n",
       "4                0.00          NaN           NaN         NaN         True   \n",
       "...               ...          ...           ...         ...          ...   \n",
       "786358        1095.04          NaN           NaN         NaN        False   \n",
       "786359        1214.96          NaN           NaN         NaN        False   \n",
       "786360        1233.85          NaN           NaN         NaN        False   \n",
       "786361        1283.28          NaN           NaN         NaN        False   \n",
       "786362        1333.17          NaN           NaN         NaN        False   \n",
       "\n",
       "        posOnPremises  recurringAuthInd expirationDateKeyInMatch  isFraud  \n",
       "0                 NaN               NaN                    False    False  \n",
       "1                 NaN               NaN                    False    False  \n",
       "2                 NaN               NaN                    False    False  \n",
       "3                 NaN               NaN                    False    False  \n",
       "4                 NaN               NaN                    False    False  \n",
       "...               ...               ...                      ...      ...  \n",
       "786358            NaN               NaN                    False    False  \n",
       "786359            NaN               NaN                    False    False  \n",
       "786360            NaN               NaN                    False    False  \n",
       "786361            NaN               NaN                    False    False  \n",
       "786362            NaN               NaN                    False    False  \n",
       "\n",
       "[786363 rows x 29 columns]>"
      ]
     },
     "execution_count": 7,
     "metadata": {},
     "output_type": "execute_result"
    }
   ],
   "source": [
    "data.describe"
   ]
  },
  {
   "cell_type": "code",
   "execution_count": 8,
   "id": "86aaec89",
   "metadata": {},
   "outputs": [],
   "source": [
    "data_1=data  #making a copy of the dataset for further work"
   ]
  },
  {
   "cell_type": "markdown",
   "id": "e79d50c6",
   "metadata": {},
   "source": [
    "Dropping colummns from the dataset which have only `NA or zero values`, and hence are not useful to us for any analysis."
   ]
  },
  {
   "cell_type": "code",
   "execution_count": 9,
   "id": "ce94ac82",
   "metadata": {},
   "outputs": [],
   "source": [
    "data_1.drop(['echoBuffer','merchantCity', 'merchantZip','merchantState', 'posOnPremises', 'recurringAuthInd'],\n",
    "            axis=1, inplace=True)\n",
    "data_1= data_1.reset_index(drop=True)"
   ]
  },
  {
   "cell_type": "code",
   "execution_count": 10,
   "id": "19144abf",
   "metadata": {},
   "outputs": [
    {
     "data": {
      "text/plain": [
       "accountNumber                  0\n",
       "customerId                     0\n",
       "creditLimit                    0\n",
       "availableMoney                 0\n",
       "transactionDateTime            0\n",
       "transactionAmount              0\n",
       "merchantName                   0\n",
       "acqCountry                  4562\n",
       "merchantCountryCode          724\n",
       "posEntryMode                4054\n",
       "posConditionCode             409\n",
       "merchantCategoryCode           0\n",
       "currentExpDate                 0\n",
       "accountOpenDate                0\n",
       "dateOfLastAddressChange        0\n",
       "cardCVV                        0\n",
       "enteredCVV                     0\n",
       "cardLast4Digits                0\n",
       "transactionType              698\n",
       "currentBalance                 0\n",
       "cardPresent                    0\n",
       "expirationDateKeyInMatch       0\n",
       "isFraud                        0\n",
       "dtype: int64"
      ]
     },
     "execution_count": 10,
     "metadata": {},
     "output_type": "execute_result"
    }
   ],
   "source": [
    "data_1.isnull().sum() #checking for new count of NAs after dropping columns"
   ]
  },
  {
   "cell_type": "code",
   "execution_count": 11,
   "id": "3a507a06",
   "metadata": {},
   "outputs": [
    {
     "data": {
      "text/html": [
       "<div>\n",
       "<style scoped>\n",
       "    .dataframe tbody tr th:only-of-type {\n",
       "        vertical-align: middle;\n",
       "    }\n",
       "\n",
       "    .dataframe tbody tr th {\n",
       "        vertical-align: top;\n",
       "    }\n",
       "\n",
       "    .dataframe thead th {\n",
       "        text-align: right;\n",
       "    }\n",
       "</style>\n",
       "<table border=\"1\" class=\"dataframe\">\n",
       "  <thead>\n",
       "    <tr style=\"text-align: right;\">\n",
       "      <th></th>\n",
       "      <th>accountNumber</th>\n",
       "      <th>customerId</th>\n",
       "      <th>creditLimit</th>\n",
       "      <th>availableMoney</th>\n",
       "      <th>transactionDateTime</th>\n",
       "      <th>transactionAmount</th>\n",
       "      <th>merchantName</th>\n",
       "      <th>acqCountry</th>\n",
       "      <th>merchantCountryCode</th>\n",
       "      <th>posEntryMode</th>\n",
       "      <th>...</th>\n",
       "      <th>accountOpenDate</th>\n",
       "      <th>dateOfLastAddressChange</th>\n",
       "      <th>cardCVV</th>\n",
       "      <th>enteredCVV</th>\n",
       "      <th>cardLast4Digits</th>\n",
       "      <th>transactionType</th>\n",
       "      <th>currentBalance</th>\n",
       "      <th>cardPresent</th>\n",
       "      <th>expirationDateKeyInMatch</th>\n",
       "      <th>isFraud</th>\n",
       "    </tr>\n",
       "  </thead>\n",
       "  <tbody>\n",
       "    <tr>\n",
       "      <th>0</th>\n",
       "      <td>737265056</td>\n",
       "      <td>737265056</td>\n",
       "      <td>5000</td>\n",
       "      <td>5000.00</td>\n",
       "      <td>2016-08-13T14:27:32</td>\n",
       "      <td>98.55</td>\n",
       "      <td>Uber</td>\n",
       "      <td>US</td>\n",
       "      <td>US</td>\n",
       "      <td>02</td>\n",
       "      <td>...</td>\n",
       "      <td>2015-03-14</td>\n",
       "      <td>2015-03-14</td>\n",
       "      <td>414</td>\n",
       "      <td>414</td>\n",
       "      <td>1803</td>\n",
       "      <td>PURCHASE</td>\n",
       "      <td>0.00</td>\n",
       "      <td>False</td>\n",
       "      <td>False</td>\n",
       "      <td>False</td>\n",
       "    </tr>\n",
       "    <tr>\n",
       "      <th>1</th>\n",
       "      <td>737265056</td>\n",
       "      <td>737265056</td>\n",
       "      <td>5000</td>\n",
       "      <td>5000.00</td>\n",
       "      <td>2016-10-11T05:05:54</td>\n",
       "      <td>74.51</td>\n",
       "      <td>AMC #191138</td>\n",
       "      <td>US</td>\n",
       "      <td>US</td>\n",
       "      <td>09</td>\n",
       "      <td>...</td>\n",
       "      <td>2015-03-14</td>\n",
       "      <td>2015-03-14</td>\n",
       "      <td>486</td>\n",
       "      <td>486</td>\n",
       "      <td>767</td>\n",
       "      <td>PURCHASE</td>\n",
       "      <td>0.00</td>\n",
       "      <td>True</td>\n",
       "      <td>False</td>\n",
       "      <td>False</td>\n",
       "    </tr>\n",
       "    <tr>\n",
       "      <th>2</th>\n",
       "      <td>737265056</td>\n",
       "      <td>737265056</td>\n",
       "      <td>5000</td>\n",
       "      <td>5000.00</td>\n",
       "      <td>2016-11-08T09:18:39</td>\n",
       "      <td>7.47</td>\n",
       "      <td>Play Store</td>\n",
       "      <td>US</td>\n",
       "      <td>US</td>\n",
       "      <td>09</td>\n",
       "      <td>...</td>\n",
       "      <td>2015-03-14</td>\n",
       "      <td>2015-03-14</td>\n",
       "      <td>486</td>\n",
       "      <td>486</td>\n",
       "      <td>767</td>\n",
       "      <td>PURCHASE</td>\n",
       "      <td>0.00</td>\n",
       "      <td>False</td>\n",
       "      <td>False</td>\n",
       "      <td>False</td>\n",
       "    </tr>\n",
       "    <tr>\n",
       "      <th>3</th>\n",
       "      <td>737265056</td>\n",
       "      <td>737265056</td>\n",
       "      <td>5000</td>\n",
       "      <td>5000.00</td>\n",
       "      <td>2016-12-10T02:14:50</td>\n",
       "      <td>7.47</td>\n",
       "      <td>Play Store</td>\n",
       "      <td>US</td>\n",
       "      <td>US</td>\n",
       "      <td>09</td>\n",
       "      <td>...</td>\n",
       "      <td>2015-03-14</td>\n",
       "      <td>2015-03-14</td>\n",
       "      <td>486</td>\n",
       "      <td>486</td>\n",
       "      <td>767</td>\n",
       "      <td>PURCHASE</td>\n",
       "      <td>0.00</td>\n",
       "      <td>False</td>\n",
       "      <td>False</td>\n",
       "      <td>False</td>\n",
       "    </tr>\n",
       "    <tr>\n",
       "      <th>4</th>\n",
       "      <td>830329091</td>\n",
       "      <td>830329091</td>\n",
       "      <td>5000</td>\n",
       "      <td>5000.00</td>\n",
       "      <td>2016-03-24T21:04:46</td>\n",
       "      <td>71.18</td>\n",
       "      <td>Tim Hortons #947751</td>\n",
       "      <td>US</td>\n",
       "      <td>US</td>\n",
       "      <td>02</td>\n",
       "      <td>...</td>\n",
       "      <td>2015-08-06</td>\n",
       "      <td>2015-08-06</td>\n",
       "      <td>885</td>\n",
       "      <td>885</td>\n",
       "      <td>3143</td>\n",
       "      <td>PURCHASE</td>\n",
       "      <td>0.00</td>\n",
       "      <td>True</td>\n",
       "      <td>False</td>\n",
       "      <td>False</td>\n",
       "    </tr>\n",
       "    <tr>\n",
       "      <th>...</th>\n",
       "      <td>...</td>\n",
       "      <td>...</td>\n",
       "      <td>...</td>\n",
       "      <td>...</td>\n",
       "      <td>...</td>\n",
       "      <td>...</td>\n",
       "      <td>...</td>\n",
       "      <td>...</td>\n",
       "      <td>...</td>\n",
       "      <td>...</td>\n",
       "      <td>...</td>\n",
       "      <td>...</td>\n",
       "      <td>...</td>\n",
       "      <td>...</td>\n",
       "      <td>...</td>\n",
       "      <td>...</td>\n",
       "      <td>...</td>\n",
       "      <td>...</td>\n",
       "      <td>...</td>\n",
       "      <td>...</td>\n",
       "      <td>...</td>\n",
       "    </tr>\n",
       "    <tr>\n",
       "      <th>786358</th>\n",
       "      <td>732852505</td>\n",
       "      <td>732852505</td>\n",
       "      <td>50000</td>\n",
       "      <td>48904.96</td>\n",
       "      <td>2016-12-22T18:44:12</td>\n",
       "      <td>119.92</td>\n",
       "      <td>Lyft</td>\n",
       "      <td>US</td>\n",
       "      <td>US</td>\n",
       "      <td>90</td>\n",
       "      <td>...</td>\n",
       "      <td>2012-08-23</td>\n",
       "      <td>2012-08-23</td>\n",
       "      <td>936</td>\n",
       "      <td>936</td>\n",
       "      <td>3783</td>\n",
       "      <td>PURCHASE</td>\n",
       "      <td>1095.04</td>\n",
       "      <td>False</td>\n",
       "      <td>False</td>\n",
       "      <td>False</td>\n",
       "    </tr>\n",
       "    <tr>\n",
       "      <th>786359</th>\n",
       "      <td>732852505</td>\n",
       "      <td>732852505</td>\n",
       "      <td>50000</td>\n",
       "      <td>48785.04</td>\n",
       "      <td>2016-12-25T16:20:34</td>\n",
       "      <td>18.89</td>\n",
       "      <td>hulu.com</td>\n",
       "      <td>US</td>\n",
       "      <td>US</td>\n",
       "      <td>09</td>\n",
       "      <td>...</td>\n",
       "      <td>2012-08-23</td>\n",
       "      <td>2012-08-23</td>\n",
       "      <td>939</td>\n",
       "      <td>939</td>\n",
       "      <td>3388</td>\n",
       "      <td>PURCHASE</td>\n",
       "      <td>1214.96</td>\n",
       "      <td>False</td>\n",
       "      <td>False</td>\n",
       "      <td>False</td>\n",
       "    </tr>\n",
       "    <tr>\n",
       "      <th>786360</th>\n",
       "      <td>732852505</td>\n",
       "      <td>732852505</td>\n",
       "      <td>50000</td>\n",
       "      <td>48766.15</td>\n",
       "      <td>2016-12-27T15:46:24</td>\n",
       "      <td>49.43</td>\n",
       "      <td>Lyft</td>\n",
       "      <td>US</td>\n",
       "      <td>US</td>\n",
       "      <td>02</td>\n",
       "      <td>...</td>\n",
       "      <td>2012-08-23</td>\n",
       "      <td>2012-08-23</td>\n",
       "      <td>936</td>\n",
       "      <td>936</td>\n",
       "      <td>3783</td>\n",
       "      <td>PURCHASE</td>\n",
       "      <td>1233.85</td>\n",
       "      <td>False</td>\n",
       "      <td>False</td>\n",
       "      <td>False</td>\n",
       "    </tr>\n",
       "    <tr>\n",
       "      <th>786361</th>\n",
       "      <td>732852505</td>\n",
       "      <td>732852505</td>\n",
       "      <td>50000</td>\n",
       "      <td>48716.72</td>\n",
       "      <td>2016-12-29T00:30:55</td>\n",
       "      <td>49.89</td>\n",
       "      <td>walmart.com</td>\n",
       "      <td>US</td>\n",
       "      <td>US</td>\n",
       "      <td>09</td>\n",
       "      <td>...</td>\n",
       "      <td>2012-08-23</td>\n",
       "      <td>2012-08-23</td>\n",
       "      <td>939</td>\n",
       "      <td>939</td>\n",
       "      <td>3388</td>\n",
       "      <td>PURCHASE</td>\n",
       "      <td>1283.28</td>\n",
       "      <td>False</td>\n",
       "      <td>False</td>\n",
       "      <td>False</td>\n",
       "    </tr>\n",
       "    <tr>\n",
       "      <th>786362</th>\n",
       "      <td>732852505</td>\n",
       "      <td>732852505</td>\n",
       "      <td>50000</td>\n",
       "      <td>48666.83</td>\n",
       "      <td>2016-12-30T20:10:29</td>\n",
       "      <td>72.18</td>\n",
       "      <td>Uber</td>\n",
       "      <td>US</td>\n",
       "      <td>US</td>\n",
       "      <td>05</td>\n",
       "      <td>...</td>\n",
       "      <td>2012-08-23</td>\n",
       "      <td>2012-08-23</td>\n",
       "      <td>939</td>\n",
       "      <td>939</td>\n",
       "      <td>3388</td>\n",
       "      <td>PURCHASE</td>\n",
       "      <td>1333.17</td>\n",
       "      <td>False</td>\n",
       "      <td>False</td>\n",
       "      <td>False</td>\n",
       "    </tr>\n",
       "  </tbody>\n",
       "</table>\n",
       "<p>786363 rows × 23 columns</p>\n",
       "</div>"
      ],
      "text/plain": [
       "        accountNumber  customerId  creditLimit  availableMoney  \\\n",
       "0           737265056   737265056         5000         5000.00   \n",
       "1           737265056   737265056         5000         5000.00   \n",
       "2           737265056   737265056         5000         5000.00   \n",
       "3           737265056   737265056         5000         5000.00   \n",
       "4           830329091   830329091         5000         5000.00   \n",
       "...               ...         ...          ...             ...   \n",
       "786358      732852505   732852505        50000        48904.96   \n",
       "786359      732852505   732852505        50000        48785.04   \n",
       "786360      732852505   732852505        50000        48766.15   \n",
       "786361      732852505   732852505        50000        48716.72   \n",
       "786362      732852505   732852505        50000        48666.83   \n",
       "\n",
       "        transactionDateTime  transactionAmount         merchantName  \\\n",
       "0       2016-08-13T14:27:32              98.55                 Uber   \n",
       "1       2016-10-11T05:05:54              74.51          AMC #191138   \n",
       "2       2016-11-08T09:18:39               7.47           Play Store   \n",
       "3       2016-12-10T02:14:50               7.47           Play Store   \n",
       "4       2016-03-24T21:04:46              71.18  Tim Hortons #947751   \n",
       "...                     ...                ...                  ...   \n",
       "786358  2016-12-22T18:44:12             119.92                 Lyft   \n",
       "786359  2016-12-25T16:20:34              18.89             hulu.com   \n",
       "786360  2016-12-27T15:46:24              49.43                 Lyft   \n",
       "786361  2016-12-29T00:30:55              49.89          walmart.com   \n",
       "786362  2016-12-30T20:10:29              72.18                 Uber   \n",
       "\n",
       "       acqCountry merchantCountryCode posEntryMode  ... accountOpenDate  \\\n",
       "0              US                  US           02  ...      2015-03-14   \n",
       "1              US                  US           09  ...      2015-03-14   \n",
       "2              US                  US           09  ...      2015-03-14   \n",
       "3              US                  US           09  ...      2015-03-14   \n",
       "4              US                  US           02  ...      2015-08-06   \n",
       "...           ...                 ...          ...  ...             ...   \n",
       "786358         US                  US           90  ...      2012-08-23   \n",
       "786359         US                  US           09  ...      2012-08-23   \n",
       "786360         US                  US           02  ...      2012-08-23   \n",
       "786361         US                  US           09  ...      2012-08-23   \n",
       "786362         US                  US           05  ...      2012-08-23   \n",
       "\n",
       "       dateOfLastAddressChange cardCVV enteredCVV cardLast4Digits  \\\n",
       "0                   2015-03-14     414        414            1803   \n",
       "1                   2015-03-14     486        486             767   \n",
       "2                   2015-03-14     486        486             767   \n",
       "3                   2015-03-14     486        486             767   \n",
       "4                   2015-08-06     885        885            3143   \n",
       "...                        ...     ...        ...             ...   \n",
       "786358              2012-08-23     936        936            3783   \n",
       "786359              2012-08-23     939        939            3388   \n",
       "786360              2012-08-23     936        936            3783   \n",
       "786361              2012-08-23     939        939            3388   \n",
       "786362              2012-08-23     939        939            3388   \n",
       "\n",
       "        transactionType  currentBalance  cardPresent expirationDateKeyInMatch  \\\n",
       "0              PURCHASE            0.00        False                    False   \n",
       "1              PURCHASE            0.00         True                    False   \n",
       "2              PURCHASE            0.00        False                    False   \n",
       "3              PURCHASE            0.00        False                    False   \n",
       "4              PURCHASE            0.00         True                    False   \n",
       "...                 ...             ...          ...                      ...   \n",
       "786358         PURCHASE         1095.04        False                    False   \n",
       "786359         PURCHASE         1214.96        False                    False   \n",
       "786360         PURCHASE         1233.85        False                    False   \n",
       "786361         PURCHASE         1283.28        False                    False   \n",
       "786362         PURCHASE         1333.17        False                    False   \n",
       "\n",
       "        isFraud  \n",
       "0         False  \n",
       "1         False  \n",
       "2         False  \n",
       "3         False  \n",
       "4         False  \n",
       "...         ...  \n",
       "786358    False  \n",
       "786359    False  \n",
       "786360    False  \n",
       "786361    False  \n",
       "786362    False  \n",
       "\n",
       "[786363 rows x 23 columns]"
      ]
     },
     "execution_count": 11,
     "metadata": {},
     "output_type": "execute_result"
    }
   ],
   "source": [
    "data_1"
   ]
  },
  {
   "cell_type": "markdown",
   "id": "4a142507",
   "metadata": {},
   "source": [
    "The given dataset is a mixture of categorical and numerical data. Below are the details of the unique values of some of the `categorical data`."
   ]
  },
  {
   "cell_type": "code",
   "execution_count": 12,
   "id": "98ac5d3d",
   "metadata": {},
   "outputs": [
    {
     "data": {
      "text/plain": [
       "Uber                             25613\n",
       "Lyft                             25523\n",
       "oldnavy.com                      16992\n",
       "staples.com                      16980\n",
       "alibaba.com                      16959\n",
       "                                 ...  \n",
       "Sprint Communications #561941        2\n",
       "Runners #383214                      2\n",
       "Curves #849125                       1\n",
       "EZ Wireless #149871                  1\n",
       "TMobile Wireless #602341             1\n",
       "Name: merchantName, Length: 2490, dtype: int64"
      ]
     },
     "execution_count": 12,
     "metadata": {},
     "output_type": "execute_result"
    }
   ],
   "source": [
    "data_1[\"merchantName\"].value_counts()"
   ]
  },
  {
   "cell_type": "code",
   "execution_count": 13,
   "id": "822f79b4",
   "metadata": {},
   "outputs": [
    {
     "data": {
      "text/plain": [
       "US     774709\n",
       "MEX      3130\n",
       "CAN      2424\n",
       "PR       1538\n",
       "Name: acqCountry, dtype: int64"
      ]
     },
     "execution_count": 13,
     "metadata": {},
     "output_type": "execute_result"
    }
   ],
   "source": [
    "data_1['acqCountry'].value_counts()"
   ]
  },
  {
   "cell_type": "code",
   "execution_count": 14,
   "id": "af7cc936",
   "metadata": {},
   "outputs": [
    {
     "data": {
      "text/plain": [
       "PURCHASE                745193\n",
       "REVERSAL                 20303\n",
       "ADDRESS_VERIFICATION     20169\n",
       "Name: transactionType, dtype: int64"
      ]
     },
     "execution_count": 14,
     "metadata": {},
     "output_type": "execute_result"
    }
   ],
   "source": [
    "data_1['transactionType'].value_counts()"
   ]
  },
  {
   "cell_type": "markdown",
   "id": "956003fe",
   "metadata": {},
   "source": [
    "### Question 2"
   ]
  },
  {
   "cell_type": "markdown",
   "id": "d69faf4b",
   "metadata": {},
   "source": [
    "Now that the data has been loaded, read and understood (statistically), I will be looking into some more data understanding with the help of `visualizations`."
   ]
  },
  {
   "cell_type": "markdown",
   "id": "f332b91a",
   "metadata": {},
   "source": [
    "I have considered the `Transaction Amount` attribute for visualizations...."
   ]
  },
  {
   "cell_type": "code",
   "execution_count": 15,
   "id": "85544bc3",
   "metadata": {},
   "outputs": [
    {
     "data": {
      "text/plain": [
       "Text(0.5, 1.0, 'Histogram of Transaction Amount')"
      ]
     },
     "execution_count": 15,
     "metadata": {},
     "output_type": "execute_result"
    },
    {
     "data": {
      "image/png": "[encoded data removed]",
      "text/plain": [
       "<Figure size 432x288 with 1 Axes>"
      ]
     },
     "metadata": {
      "needs_background": "light"
     },
     "output_type": "display_data"
    }
   ],
   "source": [
    "mpl.hist(data_1['transactionAmount'], bins=[0,100,200,300,400,500,600,700,800,900,1000,1100],\n",
    "         edgecolor=\"brown\", color=\"green\")\n",
    "mpl.xlabel(\"Transaction Amount\")\n",
    "mpl.ylabel(\"Frequency\")\n",
    "mpl.title(\"Histogram of Transaction Amount\")"
   ]
  },
  {
   "cell_type": "markdown",
   "id": "8def8329",
   "metadata": {},
   "source": [
    "First up is the `histogram`. As can be seen from the figure above, that major of the transaction amount vary between 0 - 300 dollars, with the graph only decreasing in frequency as the transaction amount increases."
   ]
  },
  {
   "cell_type": "code",
   "execution_count": 16,
   "id": "8f87adf1",
   "metadata": {},
   "outputs": [
    {
     "data": {
      "text/plain": [
       "Text(0.5, 1.0, 'Boxplot of Transaction Amount')"
      ]
     },
     "execution_count": 16,
     "metadata": {},
     "output_type": "execute_result"
    },
    {
     "data": {
      "image/png": "[encoded data removed]",
      "text/plain": [
       "<Figure size 432x288 with 1 Axes>"
      ]
     },
     "metadata": {
      "needs_background": "light"
     },
     "output_type": "display_data"
    }
   ],
   "source": [
    "sb.boxplot(data=data_1, x=\"transactionAmount\", color=\"red\")\n",
    "mpl.xlabel(\"Transaction Amount\")\n",
    "mpl.title(\"Boxplot of Transaction Amount\")"
   ]
  },
  {
   "cell_type": "markdown",
   "id": "0cdd1e6f",
   "metadata": {},
   "source": [
    "Next, is the `boxplot`. It can be clearly seen that the boxplot is sckewed to the left, which again points to the fact that the transaction amounts are usually not large in nature, which kinda makes sense as well."
   ]
  },
  {
   "cell_type": "code",
   "execution_count": 17,
   "id": "26a9fb4f",
   "metadata": {
    "scrolled": false
   },
   "outputs": [
    {
     "name": "stderr",
     "output_type": "stream",
     "text": [
      "C:\\Users\\shiva\\anaconda3\\lib\\site-packages\\seaborn\\distributions.py:2619: FutureWarning: `distplot` is a deprecated function and will be removed in a future version. Please adapt your code to use either `displot` (a figure-level function with similar flexibility) or `histplot` (an axes-level function for histograms).\n",
      "  warnings.warn(msg, FutureWarning)\n"
     ]
    },
    {
     "data": {
      "text/plain": [
       "Text(0.5, 1.0, 'Distance Plot of Transaction Amount')"
      ]
     },
     "execution_count": 17,
     "metadata": {},
     "output_type": "execute_result"
    },
    {
     "data": {
      "image/png": "[encoded data removed]",
      "text/plain": [
       "<Figure size 432x288 with 1 Axes>"
      ]
     },
     "metadata": {
      "needs_background": "light"
     },
     "output_type": "display_data"
    }
   ],
   "source": [
    "sb.distplot(data_1[\"transactionAmount\"], color=\"blue\")\n",
    "mpl.xlabel(\"Transaction Amount\")\n",
    "mpl.title(\"Distance Plot of Transaction Amount\")"
   ]
  },
  {
   "cell_type": "markdown",
   "id": "73d767ad",
   "metadata": {},
   "source": [
    "Next up, the `distance plot`. And yet again, it does not deviate from the fact that the transaction amounts which are made, are low in nature. Of course, who would be spending $1000 on a frequent basis!"
   ]
  },
  {
   "cell_type": "code",
   "execution_count": 18,
   "id": "ad33ac26",
   "metadata": {},
   "outputs": [
    {
     "data": {
      "text/plain": [
       "Text(0, 0.5, 'Transaction Amount')"
      ]
     },
     "execution_count": 18,
     "metadata": {},
     "output_type": "execute_result"
    },
    {
     "data": {
      "image/png": "[encoded data removed]",
      "text/plain": [
       "<Figure size 432x288 with 1 Axes>"
      ]
     },
     "metadata": {
      "needs_background": "light"
     },
     "output_type": "display_data"
    }
   ],
   "source": [
    "sb.boxenplot(data=data_1, x='creditLimit', y='transactionAmount', palette='Set3')\n",
    "mpl.title('Relationship Between Transaction Amount and Credit Limit')\n",
    "mpl.xlabel('Credit Limit')\n",
    "mpl.ylabel('Transaction Amount')"
   ]
  },
  {
   "cell_type": "markdown",
   "id": "d4c84f8f",
   "metadata": {},
   "source": [
    "Lastly, I wanted to explore a little more wrt to the `Transaction Amount` attribute. Hence in this last visualization I have tried to show the relationship between `Credit Limit` and `Transaction Amount`. \n",
    "\n",
    "My assumption was that having a higher credit limit would lead to more expensive and more number of overall transactions, but this absolutely does not seem to be the situation.\n",
    "\n",
    "It can be seen that the people with relatively higher credit limits are those who are wise with spending their money and do not spend it recklessly."
   ]
  },
  {
   "cell_type": "markdown",
   "id": "50287775",
   "metadata": {},
   "source": [
    "### Question 3"
   ]
  },
  {
   "cell_type": "markdown",
   "id": "e0d958da",
   "metadata": {},
   "source": [
    "This section of the code highlights the `Data Wrangling` part of this challenge. So, here-in I was supposed to find the duplicate transactions in the given dataset and extimate the average of such duplicate transactions.\n",
    "\n",
    "The duplicate transactions fall into the below two categories:\n",
    "\n",
    "* Multi Swipe\n",
    "\n",
    "Here, the same transaction amount for a commodity was transacted twice within a short interval of time\n",
    "\n",
    "* Reversal\n",
    "\n",
    "Here a purchase is followed up by a Reverse Transaction."
   ]
  },
  {
   "cell_type": "markdown",
   "id": "36909140",
   "metadata": {},
   "source": [
    "Firstly, finding out the `Multi- swipe` transactions. Here, again I have made a duplicate of the dataset for further manipulations. Next, I have converted the `transactionDateTime` column to the proper data type"
   ]
  },
  {
   "cell_type": "code",
   "execution_count": 42,
   "id": "88713c15",
   "metadata": {},
   "outputs": [],
   "source": [
    "data_2=data_1   \n",
    "data_2['transactionDateTime'] = pd.to_datetime(data_2['transactionDateTime'])"
   ]
  },
  {
   "cell_type": "code",
   "execution_count": 20,
   "id": "9e5a3a13",
   "metadata": {},
   "outputs": [
    {
     "data": {
      "text/plain": [
       "accountNumber                        int64\n",
       "customerId                           int64\n",
       "creditLimit                          int64\n",
       "availableMoney                     float64\n",
       "transactionDateTime         datetime64[ns]\n",
       "transactionAmount                  float64\n",
       "merchantName                        object\n",
       "acqCountry                          object\n",
       "merchantCountryCode                 object\n",
       "posEntryMode                        object\n",
       "posConditionCode                    object\n",
       "merchantCategoryCode                object\n",
       "currentExpDate                      object\n",
       "accountOpenDate                     object\n",
       "dateOfLastAddressChange             object\n",
       "cardCVV                              int64\n",
       "enteredCVV                           int64\n",
       "cardLast4Digits                      int64\n",
       "transactionType                     object\n",
       "currentBalance                     float64\n",
       "cardPresent                           bool\n",
       "expirationDateKeyInMatch              bool\n",
       "isFraud                               bool\n",
       "dtype: object"
      ]
     },
     "execution_count": 20,
     "metadata": {},
     "output_type": "execute_result"
    }
   ],
   "source": [
    "data_2.dtypes"
   ]
  },
  {
   "cell_type": "markdown",
   "id": "1fd6acc0",
   "metadata": {},
   "source": [
    "Now, the main logic - firstly, we need to sort the `transactionDateTime` column so as to gain insights of the multi swipe transactions.\n",
    "Then, I have created a new column on the database `Duplicated?`. This column is filled up on the basis that if there are two transactions which are made within **2 mins** of each other and are having the same transaction Amount, then the column is populated with a \"yes\", otherwise a \"no\""
   ]
  },
  {
   "cell_type": "code",
   "execution_count": 21,
   "id": "d0f14fb4",
   "metadata": {},
   "outputs": [],
   "source": [
    "data_2.sort_values(['customerId', 'transactionDateTime'], inplace=True)\n",
    "\n",
    "m1 = data_2.groupby('customerId', sort=False)['transactionAmount'].apply(lambda x: x.duplicated())\n",
    "m2 = data_2.groupby('customerId', sort=False)['transactionDateTime'].diff() <= pd.Timedelta(2, unit='minutes')\n",
    "\n",
    "data_2['Duplicated?'] = np.where(m1 & m2, 'Yes', 'No')"
   ]
  },
  {
   "cell_type": "code",
   "execution_count": 50,
   "id": "e1e520e9",
   "metadata": {
    "scrolled": true
   },
   "outputs": [
    {
     "name": "stdout",
     "output_type": "stream",
     "text": [
      "2016-12-25T14:04:15    4\n",
      "2016-05-28T14:24:41    4\n",
      "2016-06-02T11:27:00    3\n",
      "2016-04-24T22:44:16    3\n",
      "2016-04-14T13:11:10    3\n",
      "                      ..\n",
      "2016-09-11T13:32:42    1\n",
      "2016-09-11T13:35:34    1\n",
      "2016-09-11T13:38:27    1\n",
      "2016-09-11T13:57:50    1\n",
      "2016-12-30T20:10:29    1\n",
      "Name: transactionDateTime, Length: 776637, dtype: int64\n"
     ]
    }
   ],
   "source": [
    "print(data['transactionDateTime'].value_counts())"
   ]
  },
  {
   "cell_type": "code",
   "execution_count": 47,
   "id": "af38396d",
   "metadata": {},
   "outputs": [
    {
     "name": "stdout",
     "output_type": "stream",
     "text": [
      "2016-01-01 00:01:02\n"
     ]
    }
   ],
   "source": [
    "print(min(data_2['transactionDateTime']))"
   ]
  },
  {
   "cell_type": "markdown",
   "id": "67ac7359",
   "metadata": {},
   "source": [
    "Counting the number of unique values for the `Duplicated?` column."
   ]
  },
  {
   "cell_type": "code",
   "execution_count": 22,
   "id": "2f17d2f8",
   "metadata": {
    "scrolled": true
   },
   "outputs": [
    {
     "data": {
      "text/plain": [
       "No     775381\n",
       "Yes     10982\n",
       "Name: Duplicated?, dtype: int64"
      ]
     },
     "execution_count": 22,
     "metadata": {},
     "output_type": "execute_result"
    }
   ],
   "source": [
    "data_2['Duplicated?'].value_counts()"
   ]
  },
  {
   "cell_type": "markdown",
   "id": "4a7d6a0d",
   "metadata": {},
   "source": [
    "Here, I have fetched all the data from `data_2` dataframe, having the value of the `Duplicated?` column as \"Yes\" and put it in a seperate dataframe"
   ]
  },
  {
   "cell_type": "code",
   "execution_count": 23,
   "id": "1b0efeb7",
   "metadata": {
    "scrolled": true
   },
   "outputs": [],
   "source": [
    "sub_data=data_2.loc[data_1[\"Duplicated?\"]==\"Yes\"]"
   ]
  },
  {
   "cell_type": "markdown",
   "id": "bc074093",
   "metadata": {},
   "source": [
    "Finally, finding the sum of the transaction which are Duplicate. The answer is $1,472,873.8"
   ]
  },
  {
   "cell_type": "code",
   "execution_count": 24,
   "id": "9fa174d7",
   "metadata": {},
   "outputs": [],
   "source": [
    "ms=sub_data[\"transactionAmount\"].sum()"
   ]
  },
  {
   "cell_type": "markdown",
   "id": "46686a20",
   "metadata": {},
   "source": [
    "Now, for the second type of duplicate transactions, the dataset has a column labelled `transactionType`, where the \"Reversal\" transactions are clearly marked. Just need to pull those from the dataset and find their sum"
   ]
  },
  {
   "cell_type": "code",
   "execution_count": 25,
   "id": "9d4d0bf4",
   "metadata": {
    "scrolled": true
   },
   "outputs": [
    {
     "data": {
      "text/plain": [
       "PURCHASE                745193\n",
       "REVERSAL                 20303\n",
       "ADDRESS_VERIFICATION     20169\n",
       "Name: transactionType, dtype: int64"
      ]
     },
     "execution_count": 25,
     "metadata": {},
     "output_type": "execute_result"
    }
   ],
   "source": [
    "data_2[\"transactionType\"].value_counts()"
   ]
  },
  {
   "cell_type": "code",
   "execution_count": 26,
   "id": "3a2688f5",
   "metadata": {},
   "outputs": [],
   "source": [
    "data_2['transactionType']=data_2['transactionType'].astype('string')  # Converting the column to string data type"
   ]
  },
  {
   "cell_type": "code",
   "execution_count": 27,
   "id": "56e6f10e",
   "metadata": {},
   "outputs": [],
   "source": [
    "sub_data1=data_2.loc[data_1[\"transactionType\"]==\"REVERSAL\"]"
   ]
  },
  {
   "cell_type": "code",
   "execution_count": 28,
   "id": "16d01b8b",
   "metadata": {},
   "outputs": [
    {
     "data": {
      "text/plain": [
       "REVERSAL    20303\n",
       "Name: transactionType, dtype: Int64"
      ]
     },
     "execution_count": 28,
     "metadata": {},
     "output_type": "execute_result"
    }
   ],
   "source": [
    "sub_data1[\"transactionType\"].value_counts() # Finding the count of Reversal transactions"
   ]
  },
  {
   "cell_type": "code",
   "execution_count": 29,
   "id": "6fa966cb",
   "metadata": {},
   "outputs": [],
   "source": [
    "re=sub_data1['transactionAmount'].sum() # Finding the sum of the reversed transactions"
   ]
  },
  {
   "cell_type": "markdown",
   "id": "3ae823bf",
   "metadata": {},
   "source": [
    "The answer is $2,821,792.5"
   ]
  },
  {
   "cell_type": "code",
   "execution_count": 30,
   "id": "924fdd29",
   "metadata": {},
   "outputs": [],
   "source": [
    "dup=ms+re #totalling the amount for duplicate transactions\n",
    "tot=data['transactionAmount'].sum() #total sum of all transactions"
   ]
  },
  {
   "cell_type": "code",
   "execution_count": 31,
   "id": "588f4fc2",
   "metadata": {},
   "outputs": [
    {
     "data": {
      "text/plain": [
       "3.9868585889967605"
      ]
     },
     "execution_count": 31,
     "metadata": {},
     "output_type": "execute_result"
    }
   ],
   "source": [
    "(dup/tot)*100"
   ]
  },
  {
   "cell_type": "markdown",
   "id": "ef015da5",
   "metadata": {},
   "source": [
    "So, we can see that about `3.98%` of the total transactions fall into the category of being **duplicate** which seems low in terms of percentage, but looking at the amount which that duplicate transactions represent, it is quite a lot !"
   ]
  },
  {
   "cell_type": "markdown",
   "id": "04fe0b2d",
   "metadata": {},
   "source": [
    "### Question 4"
   ]
  },
  {
   "cell_type": "markdown",
   "id": "c69d4dd1",
   "metadata": {},
   "source": [
    "This is the last section of the code. Here, I have built a predictive model using Machine Learning concepts which help determines whether a particular transaction is fraudulent in nature or not"
   ]
  },
  {
   "cell_type": "markdown",
   "id": "d9e9c827",
   "metadata": {},
   "source": [
    "Firstly, I start off by creating a correlation, Matrix. Correlation matrix visually gives us an idea of how, features in a said dataset, correlate with one other and can be useful is helping us predict what are the features that are most relevant for the said prediction."
   ]
  },
  {
   "cell_type": "code",
   "execution_count": 32,
   "id": "9de95116",
   "metadata": {},
   "outputs": [
    {
     "data": {
      "image/png": "[encoded data removed]",
      "text/plain": [
       "<Figure size 864x648 with 2 Axes>"
      ]
     },
     "metadata": {
      "needs_background": "light"
     },
     "output_type": "display_data"
    }
   ],
   "source": [
    "cmat = data_2.corr()\n",
    "fig = mpl.figure(figsize = (12, 9))\n",
    "sb.heatmap(cmat, vmax = .8, square = True)\n",
    "mpl.show()"
   ]
  },
  {
   "cell_type": "code",
   "execution_count": 33,
   "id": "189a5dce",
   "metadata": {},
   "outputs": [
    {
     "data": {
      "text/html": [
       "<div>\n",
       "<style scoped>\n",
       "    .dataframe tbody tr th:only-of-type {\n",
       "        vertical-align: middle;\n",
       "    }\n",
       "\n",
       "    .dataframe tbody tr th {\n",
       "        vertical-align: top;\n",
       "    }\n",
       "\n",
       "    .dataframe thead th {\n",
       "        text-align: right;\n",
       "    }\n",
       "</style>\n",
       "<table border=\"1\" class=\"dataframe\">\n",
       "  <thead>\n",
       "    <tr style=\"text-align: right;\">\n",
       "      <th></th>\n",
       "      <th>accountNumber</th>\n",
       "      <th>customerId</th>\n",
       "      <th>creditLimit</th>\n",
       "      <th>availableMoney</th>\n",
       "      <th>transactionDateTime</th>\n",
       "      <th>transactionAmount</th>\n",
       "      <th>merchantName</th>\n",
       "      <th>acqCountry</th>\n",
       "      <th>merchantCountryCode</th>\n",
       "      <th>posEntryMode</th>\n",
       "      <th>...</th>\n",
       "      <th>dateOfLastAddressChange</th>\n",
       "      <th>cardCVV</th>\n",
       "      <th>enteredCVV</th>\n",
       "      <th>cardLast4Digits</th>\n",
       "      <th>transactionType</th>\n",
       "      <th>currentBalance</th>\n",
       "      <th>cardPresent</th>\n",
       "      <th>expirationDateKeyInMatch</th>\n",
       "      <th>isFraud</th>\n",
       "      <th>Duplicated?</th>\n",
       "    </tr>\n",
       "  </thead>\n",
       "  <tbody>\n",
       "    <tr>\n",
       "      <th>541900</th>\n",
       "      <td>100088067</td>\n",
       "      <td>100088067</td>\n",
       "      <td>50000</td>\n",
       "      <td>50000.00</td>\n",
       "      <td>2016-01-12 00:59:52</td>\n",
       "      <td>205.13</td>\n",
       "      <td>EZ Putt Putt #982199</td>\n",
       "      <td>US</td>\n",
       "      <td>US</td>\n",
       "      <td>02</td>\n",
       "      <td>...</td>\n",
       "      <td>2014-01-09</td>\n",
       "      <td>546</td>\n",
       "      <td>546</td>\n",
       "      <td>4615</td>\n",
       "      <td>PURCHASE</td>\n",
       "      <td>0.00</td>\n",
       "      <td>True</td>\n",
       "      <td>False</td>\n",
       "      <td>False</td>\n",
       "      <td>No</td>\n",
       "    </tr>\n",
       "    <tr>\n",
       "      <th>541901</th>\n",
       "      <td>100088067</td>\n",
       "      <td>100088067</td>\n",
       "      <td>50000</td>\n",
       "      <td>49794.87</td>\n",
       "      <td>2016-01-12 19:49:41</td>\n",
       "      <td>46.43</td>\n",
       "      <td>Dinosaur Sandwitch Bar #303701</td>\n",
       "      <td>US</td>\n",
       "      <td>US</td>\n",
       "      <td>05</td>\n",
       "      <td>...</td>\n",
       "      <td>2014-01-09</td>\n",
       "      <td>546</td>\n",
       "      <td>546</td>\n",
       "      <td>4615</td>\n",
       "      <td>PURCHASE</td>\n",
       "      <td>205.13</td>\n",
       "      <td>True</td>\n",
       "      <td>False</td>\n",
       "      <td>False</td>\n",
       "      <td>No</td>\n",
       "    </tr>\n",
       "    <tr>\n",
       "      <th>541902</th>\n",
       "      <td>100088067</td>\n",
       "      <td>100088067</td>\n",
       "      <td>50000</td>\n",
       "      <td>49748.44</td>\n",
       "      <td>2016-01-17 15:41:46</td>\n",
       "      <td>378.67</td>\n",
       "      <td>Mobile eCards</td>\n",
       "      <td>US</td>\n",
       "      <td>US</td>\n",
       "      <td>05</td>\n",
       "      <td>...</td>\n",
       "      <td>2014-01-09</td>\n",
       "      <td>402</td>\n",
       "      <td>402</td>\n",
       "      <td>2077</td>\n",
       "      <td>PURCHASE</td>\n",
       "      <td>251.56</td>\n",
       "      <td>False</td>\n",
       "      <td>False</td>\n",
       "      <td>False</td>\n",
       "      <td>No</td>\n",
       "    </tr>\n",
       "    <tr>\n",
       "      <th>541903</th>\n",
       "      <td>100088067</td>\n",
       "      <td>100088067</td>\n",
       "      <td>50000</td>\n",
       "      <td>50000.00</td>\n",
       "      <td>2016-02-02 19:57:18</td>\n",
       "      <td>66.07</td>\n",
       "      <td>EZ Putt Putt #40513</td>\n",
       "      <td>US</td>\n",
       "      <td>US</td>\n",
       "      <td>02</td>\n",
       "      <td>...</td>\n",
       "      <td>2014-01-09</td>\n",
       "      <td>546</td>\n",
       "      <td>546</td>\n",
       "      <td>4615</td>\n",
       "      <td>PURCHASE</td>\n",
       "      <td>0.00</td>\n",
       "      <td>True</td>\n",
       "      <td>False</td>\n",
       "      <td>False</td>\n",
       "      <td>No</td>\n",
       "    </tr>\n",
       "    <tr>\n",
       "      <th>541904</th>\n",
       "      <td>100088067</td>\n",
       "      <td>100088067</td>\n",
       "      <td>50000</td>\n",
       "      <td>49933.93</td>\n",
       "      <td>2016-02-03 04:48:54</td>\n",
       "      <td>141.60</td>\n",
       "      <td>34th BBQ #412895</td>\n",
       "      <td>US</td>\n",
       "      <td>US</td>\n",
       "      <td>09</td>\n",
       "      <td>...</td>\n",
       "      <td>2014-01-09</td>\n",
       "      <td>546</td>\n",
       "      <td>546</td>\n",
       "      <td>4615</td>\n",
       "      <td>PURCHASE</td>\n",
       "      <td>66.07</td>\n",
       "      <td>True</td>\n",
       "      <td>False</td>\n",
       "      <td>False</td>\n",
       "      <td>No</td>\n",
       "    </tr>\n",
       "    <tr>\n",
       "      <th>...</th>\n",
       "      <td>...</td>\n",
       "      <td>...</td>\n",
       "      <td>...</td>\n",
       "      <td>...</td>\n",
       "      <td>...</td>\n",
       "      <td>...</td>\n",
       "      <td>...</td>\n",
       "      <td>...</td>\n",
       "      <td>...</td>\n",
       "      <td>...</td>\n",
       "      <td>...</td>\n",
       "      <td>...</td>\n",
       "      <td>...</td>\n",
       "      <td>...</td>\n",
       "      <td>...</td>\n",
       "      <td>...</td>\n",
       "      <td>...</td>\n",
       "      <td>...</td>\n",
       "      <td>...</td>\n",
       "      <td>...</td>\n",
       "      <td>...</td>\n",
       "    </tr>\n",
       "    <tr>\n",
       "      <th>108111</th>\n",
       "      <td>999389635</td>\n",
       "      <td>999389635</td>\n",
       "      <td>5000</td>\n",
       "      <td>4921.32</td>\n",
       "      <td>2016-09-16 15:35:24</td>\n",
       "      <td>267.62</td>\n",
       "      <td>Franks Pub #680641</td>\n",
       "      <td>US</td>\n",
       "      <td>US</td>\n",
       "      <td>09</td>\n",
       "      <td>...</td>\n",
       "      <td>2015-10-09</td>\n",
       "      <td>140</td>\n",
       "      <td>140</td>\n",
       "      <td>3991</td>\n",
       "      <td>PURCHASE</td>\n",
       "      <td>78.68</td>\n",
       "      <td>True</td>\n",
       "      <td>False</td>\n",
       "      <td>False</td>\n",
       "      <td>No</td>\n",
       "    </tr>\n",
       "    <tr>\n",
       "      <th>108112</th>\n",
       "      <td>999389635</td>\n",
       "      <td>999389635</td>\n",
       "      <td>5000</td>\n",
       "      <td>4653.70</td>\n",
       "      <td>2016-09-22 13:58:30</td>\n",
       "      <td>4.62</td>\n",
       "      <td>Play Store</td>\n",
       "      <td>US</td>\n",
       "      <td>US</td>\n",
       "      <td>05</td>\n",
       "      <td>...</td>\n",
       "      <td>2015-10-09</td>\n",
       "      <td>140</td>\n",
       "      <td>140</td>\n",
       "      <td>3991</td>\n",
       "      <td>PURCHASE</td>\n",
       "      <td>346.30</td>\n",
       "      <td>False</td>\n",
       "      <td>False</td>\n",
       "      <td>False</td>\n",
       "      <td>No</td>\n",
       "    </tr>\n",
       "    <tr>\n",
       "      <th>108113</th>\n",
       "      <td>999389635</td>\n",
       "      <td>999389635</td>\n",
       "      <td>5000</td>\n",
       "      <td>4674.08</td>\n",
       "      <td>2016-10-23 16:47:41</td>\n",
       "      <td>4.62</td>\n",
       "      <td>Play Store</td>\n",
       "      <td>US</td>\n",
       "      <td>US</td>\n",
       "      <td>05</td>\n",
       "      <td>...</td>\n",
       "      <td>2015-10-09</td>\n",
       "      <td>140</td>\n",
       "      <td>140</td>\n",
       "      <td>3991</td>\n",
       "      <td>PURCHASE</td>\n",
       "      <td>325.92</td>\n",
       "      <td>False</td>\n",
       "      <td>False</td>\n",
       "      <td>False</td>\n",
       "      <td>No</td>\n",
       "    </tr>\n",
       "    <tr>\n",
       "      <th>108114</th>\n",
       "      <td>999389635</td>\n",
       "      <td>999389635</td>\n",
       "      <td>5000</td>\n",
       "      <td>4694.46</td>\n",
       "      <td>2016-11-24 00:21:46</td>\n",
       "      <td>4.62</td>\n",
       "      <td>Play Store</td>\n",
       "      <td>US</td>\n",
       "      <td>US</td>\n",
       "      <td>05</td>\n",
       "      <td>...</td>\n",
       "      <td>2015-10-09</td>\n",
       "      <td>140</td>\n",
       "      <td>140</td>\n",
       "      <td>3991</td>\n",
       "      <td>PURCHASE</td>\n",
       "      <td>305.54</td>\n",
       "      <td>False</td>\n",
       "      <td>False</td>\n",
       "      <td>False</td>\n",
       "      <td>No</td>\n",
       "    </tr>\n",
       "    <tr>\n",
       "      <th>108115</th>\n",
       "      <td>999389635</td>\n",
       "      <td>999389635</td>\n",
       "      <td>5000</td>\n",
       "      <td>4714.84</td>\n",
       "      <td>2016-12-24 05:19:30</td>\n",
       "      <td>4.62</td>\n",
       "      <td>Play Store</td>\n",
       "      <td>US</td>\n",
       "      <td>US</td>\n",
       "      <td>05</td>\n",
       "      <td>...</td>\n",
       "      <td>2015-10-09</td>\n",
       "      <td>140</td>\n",
       "      <td>140</td>\n",
       "      <td>3991</td>\n",
       "      <td>PURCHASE</td>\n",
       "      <td>285.16</td>\n",
       "      <td>False</td>\n",
       "      <td>False</td>\n",
       "      <td>False</td>\n",
       "      <td>No</td>\n",
       "    </tr>\n",
       "  </tbody>\n",
       "</table>\n",
       "<p>786363 rows × 24 columns</p>\n",
       "</div>"
      ],
      "text/plain": [
       "        accountNumber  customerId  creditLimit  availableMoney  \\\n",
       "541900      100088067   100088067        50000        50000.00   \n",
       "541901      100088067   100088067        50000        49794.87   \n",
       "541902      100088067   100088067        50000        49748.44   \n",
       "541903      100088067   100088067        50000        50000.00   \n",
       "541904      100088067   100088067        50000        49933.93   \n",
       "...               ...         ...          ...             ...   \n",
       "108111      999389635   999389635         5000         4921.32   \n",
       "108112      999389635   999389635         5000         4653.70   \n",
       "108113      999389635   999389635         5000         4674.08   \n",
       "108114      999389635   999389635         5000         4694.46   \n",
       "108115      999389635   999389635         5000         4714.84   \n",
       "\n",
       "       transactionDateTime  transactionAmount                    merchantName  \\\n",
       "541900 2016-01-12 00:59:52             205.13            EZ Putt Putt #982199   \n",
       "541901 2016-01-12 19:49:41              46.43  Dinosaur Sandwitch Bar #303701   \n",
       "541902 2016-01-17 15:41:46             378.67                   Mobile eCards   \n",
       "541903 2016-02-02 19:57:18              66.07             EZ Putt Putt #40513   \n",
       "541904 2016-02-03 04:48:54             141.60                34th BBQ #412895   \n",
       "...                    ...                ...                             ...   \n",
       "108111 2016-09-16 15:35:24             267.62              Franks Pub #680641   \n",
       "108112 2016-09-22 13:58:30               4.62                      Play Store   \n",
       "108113 2016-10-23 16:47:41               4.62                      Play Store   \n",
       "108114 2016-11-24 00:21:46               4.62                      Play Store   \n",
       "108115 2016-12-24 05:19:30               4.62                      Play Store   \n",
       "\n",
       "       acqCountry merchantCountryCode posEntryMode  ...  \\\n",
       "541900         US                  US           02  ...   \n",
       "541901         US                  US           05  ...   \n",
       "541902         US                  US           05  ...   \n",
       "541903         US                  US           02  ...   \n",
       "541904         US                  US           09  ...   \n",
       "...           ...                 ...          ...  ...   \n",
       "108111         US                  US           09  ...   \n",
       "108112         US                  US           05  ...   \n",
       "108113         US                  US           05  ...   \n",
       "108114         US                  US           05  ...   \n",
       "108115         US                  US           05  ...   \n",
       "\n",
       "       dateOfLastAddressChange cardCVV enteredCVV cardLast4Digits  \\\n",
       "541900              2014-01-09     546        546            4615   \n",
       "541901              2014-01-09     546        546            4615   \n",
       "541902              2014-01-09     402        402            2077   \n",
       "541903              2014-01-09     546        546            4615   \n",
       "541904              2014-01-09     546        546            4615   \n",
       "...                        ...     ...        ...             ...   \n",
       "108111              2015-10-09     140        140            3991   \n",
       "108112              2015-10-09     140        140            3991   \n",
       "108113              2015-10-09     140        140            3991   \n",
       "108114              2015-10-09     140        140            3991   \n",
       "108115              2015-10-09     140        140            3991   \n",
       "\n",
       "       transactionType  currentBalance  cardPresent  expirationDateKeyInMatch  \\\n",
       "541900        PURCHASE            0.00         True                     False   \n",
       "541901        PURCHASE          205.13         True                     False   \n",
       "541902        PURCHASE          251.56        False                     False   \n",
       "541903        PURCHASE            0.00         True                     False   \n",
       "541904        PURCHASE           66.07         True                     False   \n",
       "...                ...             ...          ...                       ...   \n",
       "108111        PURCHASE           78.68         True                     False   \n",
       "108112        PURCHASE          346.30        False                     False   \n",
       "108113        PURCHASE          325.92        False                     False   \n",
       "108114        PURCHASE          305.54        False                     False   \n",
       "108115        PURCHASE          285.16        False                     False   \n",
       "\n",
       "       isFraud  Duplicated?  \n",
       "541900   False           No  \n",
       "541901   False           No  \n",
       "541902   False           No  \n",
       "541903   False           No  \n",
       "541904   False           No  \n",
       "...        ...          ...  \n",
       "108111   False           No  \n",
       "108112   False           No  \n",
       "108113   False           No  \n",
       "108114   False           No  \n",
       "108115   False           No  \n",
       "\n",
       "[786363 rows x 24 columns]"
      ]
     },
     "execution_count": 33,
     "metadata": {},
     "output_type": "execute_result"
    }
   ],
   "source": [
    "data_2    #looking at the dataset again"
   ]
  },
  {
   "cell_type": "markdown",
   "id": "c55c70a0",
   "metadata": {},
   "source": [
    "Again, dropping attributes from the dataset which are not required to build the model"
   ]
  },
  {
   "cell_type": "code",
   "execution_count": 34,
   "id": "433efeea",
   "metadata": {},
   "outputs": [],
   "source": [
    "dropp=[\"merchantName\", \"acqCountry\", \"merchantCountryCode\", \"posEntryMode\", \"dateOfLastAddressChange\", \"expirationDateKeyInMatch\",\n",
    "      \"transactionDateTime\", \"posConditionCode\", \"merchantCategoryCode\", \"currentExpDate\", \"accountOpenDate\", \"cardCVV\", \"enteredCVV\", \"cardLast4Digits\", \n",
    "      \"transactionType\", \"cardPresent\",\"Duplicated?\"]\n",
    "data_2=data_2.drop(labels=dropp, axis=1)"
   ]
  },
  {
   "cell_type": "markdown",
   "id": "46275f5b",
   "metadata": {},
   "source": [
    "Dividing X and Y from the dataset in order to make predictions"
   ]
  },
  {
   "cell_type": "code",
   "execution_count": 35,
   "id": "085825a6",
   "metadata": {},
   "outputs": [],
   "source": [
    "x=data_2.drop([\"isFraud\"], axis=1)\n",
    "y=data_2[\"isFraud\"]\n",
    "x_data=x.values\n",
    "y_data=y.values"
   ]
  },
  {
   "cell_type": "markdown",
   "id": "d17ee8dd",
   "metadata": {},
   "source": [
    "Splitting the dataset into test and training sections. I have made a split of 15% test data and 85% training data"
   ]
  },
  {
   "cell_type": "code",
   "execution_count": 36,
   "id": "b9e5821b",
   "metadata": {},
   "outputs": [],
   "source": [
    "x_train, x_test, y_train, y_test = train_test_split(x_data, y_data, test_size = 0.15)"
   ]
  },
  {
   "cell_type": "markdown",
   "id": "df3b4c2f",
   "metadata": {},
   "source": [
    "Defining the models to be used on the dataset"
   ]
  },
  {
   "cell_type": "code",
   "execution_count": 37,
   "id": "676cf849",
   "metadata": {},
   "outputs": [],
   "source": [
    "classifiers = {\"LogisiticRegression\": LogisticRegression(),\"KNearest\": KNeighborsClassifier()}"
   ]
  },
  {
   "cell_type": "markdown",
   "id": "36423521",
   "metadata": {},
   "source": [
    "Finally, passing our reduced and cleaned dataset into the models and predicting the accuraccy."
   ]
  },
  {
   "cell_type": "code",
   "execution_count": 38,
   "id": "db4b7bac",
   "metadata": {},
   "outputs": [
    {
     "name": "stdout",
     "output_type": "stream",
     "text": [
      "Classifiers:  LogisticRegression has a training score of 98.0 % accuracy score\n",
      "Classifiers:  KNeighborsClassifier has a training score of 98.0 % accuracy score\n"
     ]
    }
   ],
   "source": [
    "for key, classifier in classifiers.items():\n",
    "    classifier.fit(x_train, y_train)\n",
    "    training_score = cross_val_score(classifier, x_train, y_train, cv=5)\n",
    "    print(\"Classifiers: \", classifier.__class__.__name__, \"has a training score of\", round(training_score.mean(), 2) * 100, \"% accuracy score\")"
   ]
  },
  {
   "cell_type": "markdown",
   "id": "0666023c",
   "metadata": {},
   "source": [
    "As you can see that both the models which are used pretty much return the same accuracy of `98%`. More in-depth details on the models - why these ones where chosen, what challenges I faced etc. Can be found at the very beginning of this NB!"
   ]
  }
 ],
 "metadata": {
  "kernelspec": {
   "display_name": "Python 3 (ipykernel)",
   "language": "python",
   "name": "python3"
  },
  "language_info": {
   "codemirror_mode": {
    "name": "ipython",
    "version": 3
   },
   "file_extension": ".py",
   "mimetype": "text/x-python",
   "name": "python",
   "nbconvert_exporter": "python",
   "pygments_lexer": "ipython3",
   "version": "3.9.12"
  }
 },
 "nbformat": 4,
 "nbformat_minor": 5
}
